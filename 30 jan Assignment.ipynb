{
 "cells": [
  {
   "cell_type": "markdown",
   "id": "b34943a6-0731-443e-b6b3-47fbf2ea8153",
   "metadata": {},
   "source": [
    "marks= int(input('enter your marks'))\n",
    "if marks>90:\n",
    "   print(\"you got A grade\")\n",
    "elif marks>80 and marks<=90:\n",
    "   print(\"you got B grade\")\n",
    "elif marks>=60 and marks<=80:\n",
    "   print(\"you got C grade\")\n",
    "else :\n",
    "   print(\"you got D grade\")"
   ]
  },
  {
   "cell_type": "markdown",
   "id": "b493b059-6a33-4391-a1d6-b6f50d7c4631",
   "metadata": {},
   "source": [
    "Cost_Price= int(input(\"Cost of bike\"))\n",
    "if Cost_Price>100000:\n",
    "    print(\"you have to pay 15% Tax\")\n",
    "elif Cost_Price>50000 and Cost_Price<=100000:\n",
    "    print(\"you have to pay 10% Tax\")\n",
    "else:\n",
    "    print(\"you have to pay 5% Tax\")\n",
    "                "
   ]
  },
  {
   "cell_type": "markdown",
   "id": "24970090-d8de-471a-a1e1-ee7d205d88d7",
   "metadata": {},
   "source": [
    "city= input('enter city name')\n",
    "if city=='Delhi':\n",
    "    print('Red Fort Mounment is present in this city')\n",
    "elif city=='Agra':\n",
    "    print('Taj MAhal Mounment is present in this city')\n",
    "else:\n",
    "    print('Jal Mahal Mounment is present in this city')\n"
   ]
  },
  {
   "cell_type": "markdown",
   "id": "5844be23-58f9-4188-8c38-2c407ec21e5e",
   "metadata": {},
   "source": [
    "num = int(input(\"Enter a number: \"))\n",
    "count = 0\n",
    "\n",
    "while num > 10:\n",
    "    num = num / 3\n",
    "    count += 1\n",
    "\n",
    "print(\"The number can be divided by 3\", count, \"times before it is less than or equal to 10.\")\n"
   ]
  },
  {
   "cell_type": "markdown",
   "id": "240758aa-a710-47c4-b07f-b6bb3709e1ab",
   "metadata": {},
   "source": [
    "'''In Python, a while loop is used to execute a block of code repeatedly while a certain condition is true. The while loop is useful when the number of iterations required is not known beforehand, and the loop needs to continue until a specific condition is met.'''\n",
    "\n",
    "\n",
    "\n",
    "# Keep asking the user for input until they enter a valid number\n",
    "while True:\n",
    "    try:\n",
    "        num = int(input(\"Enter a number between 1 and 10: \"))\n",
    "        if num < 1 or num > 10:\n",
    "            raise ValueError\n",
    "        break\n",
    "    except ValueError:\n",
    "        print(\"Invalid input. Please enter a valid number between 1 and 10.\")\n",
    "\n",
    "print(\"You entered:\", num)\n"
   ]
  },
  {
   "cell_type": "markdown",
   "id": "313385c0-3a83-4c9c-8780-a49c99fd6ab2",
   "metadata": {},
   "source": [
    "Here are three different patterns that can be printed using nested `while` loops in Python:\n",
    "\n",
    "**Pattern 1:**\n",
    "\n",
    "```\n",
    "*\n",
    "**\n",
    "***\n",
    "****\n",
    "*****\n",
    "```\n",
    "\n",
    "Code:\n",
    "\n",
    "```\n",
    "i = 1\n",
    "while i <= 5:\n",
    "    j = 1\n",
    "    while j <= i:\n",
    "        print(\"*\", end=\"\")\n",
    "        j += 1\n",
    "    print()\n",
    "    i += 1\n",
    "```\n",
    "\n",
    "**Pattern 2:**\n",
    "\n",
    "```\n",
    "*****\n",
    "****\n",
    "***\n",
    "**\n",
    "*\n",
    "```\n",
    "\n",
    "Code:\n",
    "\n",
    "```\n",
    "i = 5\n",
    "while i >= 1:\n",
    "    j = 1\n",
    "    while j <= i:\n",
    "        print(\"*\", end=\"\")\n",
    "        j += 1\n",
    "    print()\n",
    "    i -= 1\n",
    "```\n",
    "\n",
    "**Pattern 3:**\n",
    "\n",
    "```\n",
    "  *\n",
    " ***\n",
    "*****\n",
    "```\n",
    "\n",
    "Code:\n",
    "\n",
    "```\n",
    "i = 1\n",
    "while i <= 3:\n",
    "    j = 1\n",
    "    while j <= 3 - i:\n",
    "        print(\" \", end=\"\")\n",
    "        j += 1\n",
    "    k = 1\n",
    "    while k <= (2 * i) - 1:\n",
    "        print(\"*\", end=\"\")\n",
    "        k += 1\n",
    "    print()\n",
    "    i += 1\n",
    "```\n",
    "\n"
   ]
  },
  {
   "cell_type": "markdown",
   "id": "44bf8fef-ac0f-4d73-b261-b1721dc7e314",
   "metadata": {},
   "source": [
    "Here's an example of a `while` loop in Python that counts down from 10 to 1 and prints each number:\n",
    "\n",
    "```\n",
    "num = 10\n",
    "while num >= 1:\n",
    "    print(num)\n",
    "    num -= 1\n",
    "```\n",
    "\n"
   ]
  },
  {
   "cell_type": "code",
   "execution_count": null,
   "id": "47c848b7-6396-464e-b3f5-efa7858ee132",
   "metadata": {},
   "outputs": [],
   "source": []
  }
 ],
 "metadata": {
  "kernelspec": {
   "display_name": "Python 3 (ipykernel)",
   "language": "python",
   "name": "python3"
  },
  "language_info": {
   "codemirror_mode": {
    "name": "ipython",
    "version": 3
   },
   "file_extension": ".py",
   "mimetype": "text/x-python",
   "name": "python",
   "nbconvert_exporter": "python",
   "pygments_lexer": "ipython3",
   "version": "3.10.8"
  }
 },
 "nbformat": 4,
 "nbformat_minor": 5
}
